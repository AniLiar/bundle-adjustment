{
 "cells": [
  {
   "cell_type": "code",
   "execution_count": 132,
   "id": "1b831717",
   "metadata": {},
   "outputs": [],
   "source": [
    "import numpy as np\n",
    "import json \n",
    "import cv2\n",
    "import random\n",
    "import yaml\n",
    "\n",
    "from numpy.linalg import norm\n",
    "from scipy.spatial.transform import Rotation\n",
    "from scipy.linalg import pinv, inv, lstsq\n",
    "from scipy import optimize\n",
    "import matplotlib.pyplot as plt"
   ]
  },
  {
   "cell_type": "markdown",
   "id": "60e41bf7",
   "metadata": {},
   "source": [
    "## Read dataset and camera parameters"
   ]
  },
  {
   "cell_type": "code",
   "execution_count": 2,
   "id": "f15fd75b",
   "metadata": {},
   "outputs": [],
   "source": [
    "dataset_file = open('dataset.json')\n",
    "dataset_json = dataset_file.read()\n",
    "data = json.loads(dataset_json)"
   ]
  },
  {
   "cell_type": "code",
   "execution_count": 3,
   "id": "699c3c61",
   "metadata": {},
   "outputs": [],
   "source": [
    "with open(\"calibration.yaml\") as stream:\n",
    "    camera_data = (yaml.safe_load(stream))\n",
    "\n",
    "M = np.array(camera_data[\"camera_matrix\"])\n",
    "distortion = np.array(camera_data[\"dist_coeff\"])"
   ]
  },
  {
   "cell_type": "code",
   "execution_count": 4,
   "id": "db35b3cc",
   "metadata": {},
   "outputs": [],
   "source": [
    "def rotation_vec_to_matrix(rvec):\n",
    "    rotation_object = Rotation.from_rotvec(rvec)\n",
    "    return rotation_object.as_matrix()\n",
    "\n",
    "def concat_R_and_t(R, t): \n",
    "    return np.hstack([R, t])\n",
    "\n",
    "def get_P(M, Rt):\n",
    "    return np.dot(M, Rt)\n",
    "\n",
    "def get_C_hat(P):\n",
    "    p_hat = P[:, 0:3]\n",
    "    p4 = P[:,3]\n",
    "    C = - np.dot(inv(p_hat), p4)\n",
    "    return np.append(C, 1)\n",
    "\n",
    "def get_point_on_ray(P, point, C, lamda): # Тут я написал не lambda, потому что зарезервированное имя питоном\n",
    "    return np.dot(pinv(P), point) + lamda * C\n",
    "\n",
    "def homo_to_euclid(point):\n",
    "    point = point / point[-1]\n",
    "    return point[:-1]\n",
    "\n",
    "def project_3d_to_2d(rvec, tvec, M, point):\n",
    "    points_2d, _ = cv2.projectPoints(point, \n",
    "                                 rvec, tvec, \n",
    "                                 M, \n",
    "                                 None)\n",
    "    \n",
    "    return points_2d\n",
    "\n",
    "def to_plane(pointA, pointB, pointC, debug_mode = False):\n",
    "    AB = pointB - pointA\n",
    "    AC = pointC - pointA\n",
    "\n",
    "    normal = np.cross(AB, AC)\n",
    "    D = -np.dot(normal, pointA)\n",
    "\n",
    "    plane = np.zeros((1, 4))\n",
    "    plane[:,:3] = normal/normal[0]\n",
    "    plane[0,3] = D/normal[0]\n",
    "    # return normal[0]/normal[0], normal[1]/normal[0], normal[2]/normal[0], D/normal[0], \\\n",
    "    return plane"
   ]
  },
  {
   "cell_type": "code",
   "execution_count": 5,
   "id": "eeb11230",
   "metadata": {},
   "outputs": [],
   "source": [
    "def get_rtvec(data): \n",
    "    rvec, tvec = [], []\n",
    "    for key, value in data.items():\n",
    "        rvec.append(np.array(value['rvec']).reshape(3))\n",
    "        tvec.append(np.array(value['tvec']).reshape(3))\n",
    "    return rvec, tvec\n",
    "\n",
    "def get_2d_points(data):\n",
    "    points_2d = []\n",
    "    for key, value in data.items():\n",
    "        points_2d.append(np.array(value['points']))\n",
    "    return points_2d"
   ]
  },
  {
   "cell_type": "code",
   "execution_count": 171,
   "id": "37175465",
   "metadata": {},
   "outputs": [],
   "source": [
    "def project_3d_to_2d(rvec, tvec, M, point):\n",
    "    points_2d, jacobian = cv2.projectPoints(point, \n",
    "                                 rvec, -tvec, \n",
    "                                 M, \n",
    "                                 None)\n",
    "    \n",
    "    return points_2d"
   ]
  },
  {
   "cell_type": "code",
   "execution_count": 7,
   "id": "1d446830",
   "metadata": {},
   "outputs": [],
   "source": [
    "def print_point_in_image(img_path, points, radius=1):\n",
    "    img = cv2.imread(img_path)\n",
    "    for point in points:\n",
    "        img = cv2.circle(img, (int(point[0]), int(point[1])), radius=radius, color=(0, 0, 255), thickness=-1)\n",
    "    cv2.imwrite(f\"{img_path}-result.png\", img)"
   ]
  },
  {
   "cell_type": "code",
   "execution_count": 8,
   "id": "de15eeb7",
   "metadata": {},
   "outputs": [],
   "source": [
    "rvecs, tvecs = get_rtvec(data)\n",
    "points_2d = get_2d_points(data)"
   ]
  },
  {
   "cell_type": "code",
   "execution_count": 40,
   "id": "fe469c3d",
   "metadata": {},
   "outputs": [],
   "source": [
    "def get_random_indexes(n, k):\n",
    "    indexes = range(0, n)\n",
    "    random_indexes = random.sample(indexes, k)\n",
    "    return random_indexes"
   ]
  },
  {
   "cell_type": "code",
   "execution_count": 41,
   "id": "828e923c",
   "metadata": {},
   "outputs": [
    {
     "data": {
      "text/plain": [
       "[1, 15, 19, 4, 16]"
      ]
     },
     "execution_count": 41,
     "metadata": {},
     "output_type": "execute_result"
    }
   ],
   "source": [
    "get_random_indexes(21, 5)"
   ]
  },
  {
   "cell_type": "code",
   "execution_count": 60,
   "id": "ee48f798",
   "metadata": {},
   "outputs": [],
   "source": [
    "def get_3d_points(rvecs, tvecs, points_2d, random_indexes):\n",
    "    points_3d_results = []\n",
    "    \n",
    "    for i in range(len(points_2d[0])):\n",
    "        plane = []\n",
    "        for j in random_indexes: #по изображениям\n",
    "            rvec = rvecs[j]\n",
    "            R = rotation_vec_to_matrix(rvec)\n",
    "            tvec = tvecs[j].reshape((3,1))\n",
    "            Rt = concat_R_and_t(R, tvec)\n",
    "            point_first = points_2d[j][i]\n",
    "            point_first = np.append(point_first, 1)\n",
    "            P = get_P(M, Rt)\n",
    "            C = get_C_hat(P)\n",
    "            ray_point = get_point_on_ray(P, point_first, C, 10)\n",
    "            first_point = get_point_on_ray(P, point_first, C, 0)\n",
    "            second_point = get_point_on_ray(P, point_first, C, 10)\n",
    "            first_point = homo_to_euclid(first_point)\n",
    "            second_point = homo_to_euclid(second_point)\n",
    "            \n",
    "            # Создать случайный вектор с размерами 3\n",
    "            random_point1 = np.random.rand(3)\n",
    "            random_point2 = np.random.rand(3)\n",
    "            plane.append(to_plane(first_point, second_point, random_point1))\n",
    "            plane.append(to_plane(first_point, second_point,random_point2))\n",
    "        Ab = np.vstack((plane))\n",
    "        b = Ab[:,3]\n",
    "        A = np.delete(Ab, 3, 1) \n",
    "        point_3d, res, rnk, s = lstsq(A, b)\n",
    "        points_3d_results.append(point_3d)\n",
    "    return points_3d_results"
   ]
  },
  {
   "cell_type": "code",
   "execution_count": 157,
   "id": "d7044cde",
   "metadata": {},
   "outputs": [],
   "source": [
    "points_3d = get_3d_points(rvecs, tvecs, points_2d, get_random_indexes(21, 6))"
   ]
  },
  {
   "cell_type": "code",
   "execution_count": 167,
   "id": "c5363c7d",
   "metadata": {},
   "outputs": [
    {
     "name": "stdout",
     "output_type": "stream",
     "text": [
      "[[-8.23545259e-01 -8.99725462e+01 -1.74664739e+00 -8.49715727e+01\n",
      "   0.00000000e+00 -1.38355210e+01 -1.62825290e-01  0.00000000e+00\n",
      "   1.00000000e+00  0.00000000e+00 -1.79307491e+01 -4.76296740e-01\n",
      "   9.64604540e+00  3.29944609e+02 -1.26519301e-02]\n",
      " [ 8.71257160e+01 -1.22564007e+00  1.66325483e+01  0.00000000e+00\n",
      "  -8.48661601e+01 -6.06365663e-01  0.00000000e+00 -7.14496406e-03\n",
      "   0.00000000e+00  1.00000000e+00 -7.85846127e-01 -2.08745294e-02\n",
      "   1.10408770e+02  9.63407887e+00 -5.54492746e-04]]\n"
     ]
    }
   ],
   "source": [
    "points_in_image = []\n",
    "r = rvecs[0]\n",
    "t = tvecs[0]\n",
    "img_name = 'GOPR0039.JPG'\n",
    "# for result_3d_point in points_3d:\n",
    "#     points_in_image.append(project_3d_to_2d(r, t, M, result_3d_point)[0][0].tolist())\n",
    "p_2d, jac = project_3d_to_2d(r, t, M, points_3d[0])\n",
    "points_in_image.append(p_2d[0][0].tolist())\n",
    "\n",
    "    \n",
    "print_point_in_image(f\"dataset/{img_name}\", points_in_image, radius=1)"
   ]
  },
  {
   "cell_type": "code",
   "execution_count": 168,
   "id": "727ad4bb",
   "metadata": {},
   "outputs": [
    {
     "data": {
      "text/plain": [
       "(2, 15)"
      ]
     },
     "execution_count": 168,
     "metadata": {},
     "output_type": "execute_result"
    }
   ],
   "source": [
    "jac.shape"
   ]
  },
  {
   "cell_type": "code",
   "execution_count": 161,
   "id": "e339baaf",
   "metadata": {},
   "outputs": [
    {
     "data": {
      "text/plain": [
       "array([-0.22089453, -0.02436529,  1.02147672])"
      ]
     },
     "execution_count": 161,
     "metadata": {},
     "output_type": "execute_result"
    }
   ],
   "source": [
    "points_3d[0]"
   ]
  },
  {
   "cell_type": "code",
   "execution_count": 75,
   "id": "911d9fde",
   "metadata": {},
   "outputs": [
    {
     "data": {
      "text/plain": [
       "48.968037774866566"
      ]
     },
     "execution_count": 75,
     "metadata": {},
     "output_type": "execute_result"
    }
   ],
   "source": [
    "loss(np.concatenate((rvecs[0],tvecs[0])), points_3d, points_2d[0], M)"
   ]
  },
  {
   "cell_type": "code",
   "execution_count": 53,
   "id": "b2a7a2c2",
   "metadata": {},
   "outputs": [],
   "source": [
    "def loss(Rtvec, points_3d, points_2d, M):\n",
    "    \"\"\"objective function, to be solved.\"\"\"\n",
    "    r = Rtvec[:3]\n",
    "    t = Rtvec[3:]\n",
    "    \n",
    "    if len(points_3d) != len(points_2d):\n",
    "        raise ValueError('Different size of points arrays.')\n",
    "\n",
    "    points_count = len(points_3d)\n",
    "    reprojection_error = 0\n",
    "    \n",
    "    for i in range(0, points_count-1):\n",
    "        project_2d_point = project_3d_to_2d(r, t, M, points_3d[i])\n",
    "        error = norm(project_2d_point - points_2d[i])\n",
    "        reprojection_error += error\n",
    "    \n",
    "    return reprojection_error"
   ]
  },
  {
   "cell_type": "code",
   "execution_count": 54,
   "id": "f45b82a2",
   "metadata": {},
   "outputs": [],
   "source": [
    "def all_loss(rvecs, tvecs, points_2d, points_3d): \n",
    "    error = 0\n",
    "    for i in range(len(data)):\n",
    "        rvec = rvecs[i]\n",
    "        tvec = tvecs[i]\n",
    "        Rtvec = np.concatenate((rvec,tvec))\n",
    "        error += loss(Rtvec, points_3d, points_2d[i], M)\n",
    "    return error"
   ]
  },
  {
   "cell_type": "code",
   "execution_count": 55,
   "id": "bf8c455c",
   "metadata": {},
   "outputs": [
    {
     "data": {
      "text/plain": [
       "2197.552321271026"
      ]
     },
     "execution_count": 55,
     "metadata": {},
     "output_type": "execute_result"
    }
   ],
   "source": [
    "all_loss(rvecs, tvecs, points_2d, points_3d)"
   ]
  },
  {
   "cell_type": "code",
   "execution_count": 183,
   "id": "076fd033",
   "metadata": {},
   "outputs": [],
   "source": [
    "def optimize_Rt(rvecs, tvecs, points_2d, points_3d):\n",
    "    new_rvec, new_tvec = [], []\n",
    "    for i in range(len(data)):\n",
    "        rvec = rvecs[i]\n",
    "        tvec = tvecs[i]\n",
    "        Rtvec = np.concatenate((rvec,tvec))\n",
    "        newRt = optimize.fmin(loss, x0=Rtvec, args=(points_3d, points_2d[i], M),disp=0)\n",
    "        new_rvec.append(newRt[:3])\n",
    "        new_tvec.append(newRt[3:])\n",
    "    return new_rvec, new_tvec"
   ]
  },
  {
   "cell_type": "code",
   "execution_count": 57,
   "id": "080ee913",
   "metadata": {},
   "outputs": [],
   "source": [
    "new_rvec, new_tvec = optimize_Rt(rvecs, tvecs, points_2d, points_3d)"
   ]
  },
  {
   "cell_type": "code",
   "execution_count": 58,
   "id": "c18fa385",
   "metadata": {},
   "outputs": [
    {
     "data": {
      "text/plain": [
       "[array([-0.03155485, -0.02645874,  0.02281837]),\n",
       " array([-0.04007703,  0.15410282,  0.02329772]),\n",
       " array([-0.03739509,  0.17997989,  0.03046554]),\n",
       " array([-0.02318749, -0.06166457,  0.02354267]),\n",
       " array([ 0.01139989, -0.10453499,  0.02863547]),\n",
       " array([-0.00034283, -0.08866296,  0.02818498]),\n",
       " array([-0.03090351, -0.01303154,  0.02210119]),\n",
       " array([-0.03426904,  0.20654356,  0.02645075]),\n",
       " array([-0.03316491,  0.17302189,  0.03102632]),\n",
       " array([-0.0151375 , -0.04857954,  0.0265281 ]),\n",
       " array([-0.03806275,  0.06437989,  0.02676737]),\n",
       " array([-0.00064065, -0.08525323,  0.02318753]),\n",
       " array([-0.0085084 , -0.06376901,  0.02765826]),\n",
       " array([-0.0380228 ,  0.1709696 ,  0.02835471]),\n",
       " array([-0.03280401,  0.18957571,  0.02988841]),\n",
       " array([-0.03817698,  0.11962686,  0.02514584]),\n",
       " array([ 0.02084724, -0.14915316,  0.02860233]),\n",
       " array([-0.04017857,  0.02779329,  0.02422015]),\n",
       " array([-0.03630367,  0.22048283,  0.02702758]),\n",
       " array([-0.03897901,  0.07003988,  0.02445244]),\n",
       " array([-0.03722002,  0.13775593,  0.03020811])]"
      ]
     },
     "execution_count": 58,
     "metadata": {},
     "output_type": "execute_result"
    }
   ],
   "source": [
    "new_rvec"
   ]
  },
  {
   "cell_type": "markdown",
   "id": "0d073c1d",
   "metadata": {},
   "source": [
    "## Оптимизация 3D точек и Rt без шумов"
   ]
  },
  {
   "cell_type": "code",
   "execution_count": 206,
   "id": "09376b73",
   "metadata": {},
   "outputs": [],
   "source": [
    "error = {}"
   ]
  },
  {
   "cell_type": "code",
   "execution_count": 259,
   "id": "0f52162c",
   "metadata": {},
   "outputs": [
    {
     "name": "stdout",
     "output_type": "stream",
     "text": [
      "Iter count - 0, points finding loss - 588.1072157427869, Rt finding loss - 388.6286697807089\n",
      "Iter count - 1, points finding loss - 406.7690333564764, Rt finding loss - 358.09214693301067\n",
      "Iter count - 2, points finding loss - 457.66953910601825, Rt finding loss - 418.40123231193354\n",
      "Iter count - 3, points finding loss - 355.36994365580745, Rt finding loss - 322.48791757125326\n",
      "Iter count - 4, points finding loss - 440.28787095639245, Rt finding loss - 405.9117321578327\n",
      "Iter count - 5, points finding loss - 343.2704452571043, Rt finding loss - 320.1663165229199\n",
      "Iter count - 6, points finding loss - 377.8482014962348, Rt finding loss - 345.4822730879219\n",
      "Iter count - 7, points finding loss - 319.1645460223396, Rt finding loss - 293.56634979524733\n",
      "Iter count - 8, points finding loss - 473.52432466418054, Rt finding loss - 458.738502629777\n",
      "Iter count - 9, points finding loss - 380.5008634417507, Rt finding loss - 346.5498912905707\n",
      "Iter count - 10, points finding loss - 489.7097657754688, Rt finding loss - 462.3937633960399\n",
      "Iter count - 11, points finding loss - 440.43703313738536, Rt finding loss - 409.4044967319152\n",
      "Iter count - 12, points finding loss - 493.86108397161763, Rt finding loss - 457.08719986369425\n",
      "Iter count - 13, points finding loss - 516.5065525722574, Rt finding loss - 490.1764517941931\n",
      "Iter count - 14, points finding loss - 444.5995619709293, Rt finding loss - 412.9343029369511\n",
      "Iter count - 15, points finding loss - 365.9296742387296, Rt finding loss - 308.9143474945103\n",
      "Iter count - 16, points finding loss - 299.6074529217403, Rt finding loss - 279.33931281421525\n",
      "Iter count - 17, points finding loss - 379.28771229126266, Rt finding loss - 360.6827384733906\n",
      "Iter count - 18, points finding loss - 524.2989075535927, Rt finding loss - 502.40450535118947\n",
      "Iter count - 19, points finding loss - 447.5498713155389, Rt finding loss - 409.97870652262316\n",
      "Iter count - 20, points finding loss - 399.8586590795212, Rt finding loss - 378.11844962768686\n",
      "Iter count - 21, points finding loss - 375.82026721909693, Rt finding loss - 339.58841956876284\n",
      "Iter count - 22, points finding loss - 418.6787943809489, Rt finding loss - 389.88171986961737\n",
      "Iter count - 23, points finding loss - 336.1316733694844, Rt finding loss - 310.91499923040044\n",
      "Iter count - 24, points finding loss - 397.126579784861, Rt finding loss - 378.51894184811727\n"
     ]
    }
   ],
   "source": [
    "iterate_count = 25\n",
    "k = 16\n",
    "# Init points\n",
    "rvecs, tvecs = get_rtvec(data)\n",
    "points_2d = get_2d_points(data)\n",
    "points_3d = []\n",
    "\n",
    "f_losses = []\n",
    "s_losses = []\n",
    "iterations = []\n",
    "b_losses = []\n",
    "\n",
    "for i in range(iterate_count):\n",
    "    points_3d = get_3d_points(rvecs, tvecs, points_2d, get_random_indexes(21, k))\n",
    "#     print(f\"{len(points_2d)},    {len(points_3d)}\")\n",
    "    f_loss = all_loss(rvecs, tvecs, points_2d, points_3d)\n",
    "    rvecs, tvecs = optimize_Rt(rvecs, tvecs, points_2d, points_3d)\n",
    "    s_loss = all_loss(rvecs, tvecs, points_2d, points_3d)\n",
    "    \n",
    "    f_losses.append(f_loss)\n",
    "    s_losses.append(s_loss)\n",
    "    iterations.append(i)\n",
    "    b_losses.append(min(f_loss, s_loss))\n",
    "    \n",
    "    \n",
    "    print(f\"Iter count - {i}, points finding loss - {f_loss}, Rt finding loss - {s_loss}\")\n",
    "# error[k] = min(np.min(s_losses), np.min(f_losses))"
   ]
  },
  {
   "cell_type": "code",
   "execution_count": 220,
   "id": "a3919f5b",
   "metadata": {},
   "outputs": [
    {
     "data": {
      "text/plain": [
       "OrderedDict([(2, 672.3741055372892),\n",
       "             (4, 519.5219022835945),\n",
       "             (8, 318.40747229046445),\n",
       "             (16, 229.51753893124834),\n",
       "             (21, 249.70186802067292)])"
      ]
     },
     "execution_count": 220,
     "metadata": {},
     "output_type": "execute_result"
    }
   ],
   "source": [
    "import collections\n",
    "od = collections.OrderedDict(sorted(error.items()))\n",
    "od"
   ]
  },
  {
   "cell_type": "code",
   "execution_count": 214,
   "id": "1c9725a3",
   "metadata": {},
   "outputs": [
    {
     "data": {
      "text/plain": [
       "{2: 672.3741055372892,\n",
       " 4: 519.5219022835945,\n",
       " 16: 229.51753893124834,\n",
       " 8: 318.40747229046445,\n",
       " 21: 249.70186802067292}"
      ]
     },
     "execution_count": 214,
     "metadata": {},
     "output_type": "execute_result"
    }
   ],
   "source": [
    "error"
   ]
  },
  {
   "cell_type": "code",
   "execution_count": 217,
   "id": "7a2a1c05",
   "metadata": {},
   "outputs": [
    {
     "data": {
      "text/plain": [
       "dict_values([672.3741055372892, 519.5219022835945, 229.51753893124834, 318.40747229046445, 249.70186802067292])"
      ]
     },
     "execution_count": 217,
     "metadata": {},
     "output_type": "execute_result"
    }
   ],
   "source": [
    "error.values()"
   ]
  },
  {
   "cell_type": "code",
   "execution_count": 267,
   "id": "32a2964d",
   "metadata": {},
   "outputs": [
    {
     "name": "stderr",
     "output_type": "stream",
     "text": [
      "No artists with labels found to put in legend.  Note that artists whose label start with an underscore are ignored when legend() is called with no argument.\n"
     ]
    },
    {
     "data": {
      "image/png": "[encoded data removed]",
      "text/plain": [
       "<Figure size 432x288 with 1 Axes>"
      ]
     },
     "metadata": {
      "needs_background": "light"
     },
     "output_type": "display_data"
    }
   ],
   "source": [
    "# Построить график\n",
    "plt.plot(list(od.keys()), list(od.values()), color='#05647a')\n",
    "plt.xlabel(\"Количество фотографий, используемых в задаче, k\")\n",
    "plt.ylabel(\"Reprojection error $f = \\sum_{j=1}^{n} \\sum_{i=1}^{m}|| \\phi(s^j, x^i) - y^{ij} ||^2$\")\n",
    "plt.legend()\n",
    "plt.show()"
   ]
  },
  {
   "cell_type": "code",
   "execution_count": 185,
   "id": "10120203",
   "metadata": {},
   "outputs": [
    {
     "data": {
      "image/png": "[encoded data removed]",
      "text/plain": [
       "<Figure size 432x288 with 1 Axes>"
      ]
     },
     "metadata": {
      "needs_background": "light"
     },
     "output_type": "display_data"
    }
   ],
   "source": [
    "# Построить график\n",
    "plt.plot(iterations, f_losses, label=\"points loss\")\n",
    "plt.plot(iterations, s_losses, label=\"Rt loss\")\n",
    "plt.xlabel(\"Номер итерации\")\n",
    "plt.ylabel(\"Losses\")\n",
    "plt.legend()\n",
    "plt.show()"
   ]
  },
  {
   "cell_type": "code",
   "execution_count": 266,
   "id": "c6d54e7d",
   "metadata": {},
   "outputs": [
    {
     "name": "stderr",
     "output_type": "stream",
     "text": [
      "No artists with labels found to put in legend.  Note that artists whose label start with an underscore are ignored when legend() is called with no argument.\n"
     ]
    },
    {
     "data": {
      "image/png": "[encoded data removed]",
      "text/plain": [
       "<Figure size 432x288 with 1 Axes>"
      ]
     },
     "metadata": {
      "needs_background": "light"
     },
     "output_type": "display_data"
    }
   ],
   "source": [
    "# Построить график\n",
    "plt.plot(iterations[:10], losses_all_data[:10], color='#05647a')\n",
    "plt.xlabel(\"Номер итерации\")\n",
    "plt.ylabel(\"Reprojection error $f = \\sum_{j=1}^{n} \\sum_{i=1}^{m}|| \\phi(s^j, x^i) - y^{ij} ||^2$\")\n",
    "plt.legend()\n",
    "plt.show()"
   ]
  },
  {
   "cell_type": "code",
   "execution_count": 256,
   "id": "db34eb0d",
   "metadata": {},
   "outputs": [],
   "source": [
    "losses_k2_t2 = b_losses"
   ]
  },
  {
   "cell_type": "code",
   "execution_count": 260,
   "id": "1d245fb7",
   "metadata": {},
   "outputs": [],
   "source": [
    "losses_k16_t1 = b_losses"
   ]
  },
  {
   "cell_type": "code",
   "execution_count": null,
   "id": "b0fd0c8d",
   "metadata": {},
   "outputs": [],
   "source": [
    "def loss_Rt(Rtvec, points_3d, points_2d, M):\n",
    "    \"\"\"objective function, to be solved.\"\"\"\n",
    "    r = Rtvec[:3]\n",
    "    t = Rtvec[3:]\n",
    "    \n",
    "    if len(points_3d) != len(points_2d):\n",
    "        raise ValueError('Different size of points arrays.')\n",
    "\n",
    "    points_count = len(points_3d)\n",
    "    reprojection_error = 0\n",
    "    \n",
    "    for i in range(0, points_count-1):\n",
    "        project_2d_point = project_3d_to_2d(r, -t, M, points_3d[i])\n",
    "        error = norm(project_2d_point - points_2d[i])\n",
    "        reprojection_error += error\n",
    "        print(error)\n",
    "    \n",
    "    return reprojection_error"
   ]
  },
  {
   "cell_type": "code",
   "execution_count": 137,
   "id": "c665cfbf",
   "metadata": {},
   "outputs": [
    {
     "name": "stdout",
     "output_type": "stream",
     "text": [
      "Iter count - 0, points finding loss - 1116.2133131841706, Rt finding loss - 1067.3363303032352\n",
      "Iter count - 1, points finding loss - 686.9517551518943, Rt finding loss - 656.9465084375718\n",
      "Iter count - 2, points finding loss - 464.9083963827709, Rt finding loss - 478.2571462413094\n",
      "Iter count - 3, points finding loss - 585.5386582664127, Rt finding loss - 576.0137304559679\n",
      "Iter count - 4, points finding loss - 818.9492623024336, Rt finding loss - 850.0462538578033\n",
      "Iter count - 5, points finding loss - 653.657434648733, Rt finding loss - 657.7666018467828\n",
      "Iter count - 6, points finding loss - 900.5108566194486, Rt finding loss - 899.4719823422365\n",
      "Iter count - 7, points finding loss - 769.5845493966198, Rt finding loss - 800.0146625195567\n",
      "Iter count - 8, points finding loss - 902.3896599369364, Rt finding loss - 1004.7611278209558\n",
      "Iter count - 9, points finding loss - 1062.3185206828787, Rt finding loss - 1089.843873324904\n",
      "Iter count - 10, points finding loss - 1016.267339351364, Rt finding loss - 1150.0626275996947\n",
      "Iter count - 11, points finding loss - 1068.4870372884193, Rt finding loss - 1245.0630400896773\n",
      "Iter count - 12, points finding loss - 1378.9619481429963, Rt finding loss - 1534.4315512789512\n",
      "Iter count - 13, points finding loss - 1458.184388695427, Rt finding loss - 1538.7264342046915\n",
      "Iter count - 14, points finding loss - 1680.7041312908152, Rt finding loss - 1682.7233150265638\n",
      "Iter count - 15, points finding loss - 1955.174343592775, Rt finding loss - 2067.927221789756\n",
      "Iter count - 16, points finding loss - 2102.18269890533, Rt finding loss - 1989.351615778016\n",
      "Iter count - 17, points finding loss - 2196.443708063139, Rt finding loss - 2171.5603444458093\n",
      "Iter count - 18, points finding loss - 2596.676904852853, Rt finding loss - 2643.6970809122154\n",
      "Iter count - 19, points finding loss - 2502.840834319984, Rt finding loss - 2723.84178678006\n",
      "Iter count - 20, points finding loss - 3437.632479588942, Rt finding loss - 3423.2873947860007\n",
      "Iter count - 21, points finding loss - 2792.680082268836, Rt finding loss - 2966.6250533122607\n",
      "Iter count - 22, points finding loss - 2872.372091373712, Rt finding loss - 2821.03087738079\n",
      "Iter count - 23, points finding loss - 2852.178953783763, Rt finding loss - 2968.560556368905\n",
      "Iter count - 24, points finding loss - 3977.7681963599257, Rt finding loss - 3756.1057751962335\n"
     ]
    }
   ],
   "source": [
    "iterate_count = 25\n",
    "# Init points\n",
    "rvecs, tvecs = get_rtvec(data)\n",
    "points_2d = get_2d_points(data)\n",
    "\n",
    "# Make a noise\n",
    "for camera_ind in range(0, len(tvecs)):\n",
    "    # Создать случайный равномерный вектор со значениями от -0.1 до 0.1 размерности 3\n",
    "    min_radian = np.radians(-0.1)\n",
    "    max_radian = np.radians(0.1)\n",
    "    noise = np.random.uniform(min_radian, max_radian, 3)\n",
    "    \n",
    "    rvecs[camera_ind] = rvecs[camera_ind] + noise \n",
    "    \n",
    "points_3d = []\n",
    "\n",
    "f_losses = []\n",
    "s_losses = []\n",
    "iterations = []\n",
    "\n",
    "for i in range(iterate_count):\n",
    "    points_3d = get_3d_points(rvecs, tvecs, points_2d, get_random_indexes(21, 20))\n",
    "#     print(f\"{len(points_2d)},    {len(points_3d)}\")\n",
    "    f_loss = all_loss(rvecs, tvecs, points_2d, points_3d)\n",
    "    rvecs, tvecs = optimize_Rt(rvecs, tvecs, points_2d, points_3d)\n",
    "    s_loss = all_loss(rvecs, tvecs, points_2d, points_3d)\n",
    "    \n",
    "    f_losses.append(f_loss)\n",
    "    s_losses.append(s_loss)\n",
    "    iterations.append(i)\n",
    "    \n",
    "    print(f\"Iter count - {i}, points finding loss - {f_loss}, Rt finding loss - {s_loss}\")"
   ]
  },
  {
   "cell_type": "code",
   "execution_count": 138,
   "id": "5f600fa0",
   "metadata": {},
   "outputs": [
    {
     "data": {
      "image/png": "[encoded data removed]",
      "text/plain": [
       "<Figure size 432x288 with 1 Axes>"
      ]
     },
     "metadata": {
      "needs_background": "light"
     },
     "output_type": "display_data"
    }
   ],
   "source": [
    "plt.plot(iterations, f_losses, label=\"points loss\")\n",
    "plt.plot(iterations, s_losses, label=\"Rt loss\")\n",
    "plt.xlabel(\"Номер итерации\")\n",
    "plt.ylabel(\"Losses\")\n",
    "plt.legend()\n",
    "plt.show()"
   ]
  },
  {
   "cell_type": "markdown",
   "id": "67da706e",
   "metadata": {},
   "source": [
    "#### Равномерный шум (-0.1 градусов, 0.1 градусов) для R и равномерный шум (-0.1, 0.1) для t "
   ]
  },
  {
   "cell_type": "code",
   "execution_count": 134,
   "id": "d15f3957",
   "metadata": {},
   "outputs": [
    {
     "name": "stdout",
     "output_type": "stream",
     "text": [
      "Iter count - 0, points finding loss - 10313.421468893916, Rt finding loss - 8602.87595877128\n",
      "Iter count - 1, points finding loss - 13018.14478872149, Rt finding loss - 12651.13557663438\n",
      "Iter count - 2, points finding loss - 12290.622079103081, Rt finding loss - 12570.76500519916\n",
      "Iter count - 3, points finding loss - 8910.880170021452, Rt finding loss - 8722.089315125515\n",
      "Iter count - 4, points finding loss - 67204.88188687773, Rt finding loss - 15129.505932250378\n",
      "Iter count - 5, points finding loss - 32623.047950798587, Rt finding loss - 31963.17070292911\n",
      "Iter count - 6, points finding loss - 48034.5152524053, Rt finding loss - 38259.77530742114\n",
      "Iter count - 7, points finding loss - 17602.50730569362, Rt finding loss - 11638.75617770026\n",
      "Iter count - 8, points finding loss - 64734.10314542223, Rt finding loss - 87014.07476123347\n",
      "Iter count - 9, points finding loss - 24597.82165198798, Rt finding loss - 14199.827600122566\n",
      "Iter count - 10, points finding loss - 24094.73501803291, Rt finding loss - 24338.36525514895\n",
      "Iter count - 11, points finding loss - 13338.022798311675, Rt finding loss - 11956.306920291221\n",
      "Iter count - 12, points finding loss - 9527.364083379334, Rt finding loss - 8997.081802163635\n",
      "Iter count - 13, points finding loss - 12906.953028440494, Rt finding loss - 9409.48907363938\n",
      "Iter count - 14, points finding loss - 9310.894068738951, Rt finding loss - 8878.126583648755\n",
      "Iter count - 15, points finding loss - 9707.043867414364, Rt finding loss - 9680.711117950188\n",
      "Iter count - 16, points finding loss - 22516.60247818191, Rt finding loss - 17093.420739792316\n",
      "Iter count - 17, points finding loss - 27130.62472550453, Rt finding loss - 20195.91431971188\n",
      "Iter count - 18, points finding loss - 15076.711312140354, Rt finding loss - 10599.884520463758\n",
      "Iter count - 19, points finding loss - 16731.867174053357, Rt finding loss - 11407.187115307499\n",
      "Iter count - 20, points finding loss - 24955.167345700072, Rt finding loss - 18415.181156461695\n",
      "Iter count - 21, points finding loss - 8333.636747683984, Rt finding loss - 7973.308963844669\n",
      "Iter count - 22, points finding loss - 29560.535505869037, Rt finding loss - 14528.53974568822\n",
      "Iter count - 23, points finding loss - 17363.5773993958, Rt finding loss - 13286.115414337773\n",
      "Iter count - 24, points finding loss - 10039.10439388864, Rt finding loss - 7214.619727769966\n"
     ]
    }
   ],
   "source": [
    "iterate_count = 25\n",
    "# Init points\n",
    "rvecs, tvecs = get_rtvec(data)\n",
    "points_2d = get_2d_points(data)\n",
    "\n",
    "# Make a noise\n",
    "for camera_ind in range(0, len(tvecs)):\n",
    "    # Создать случайный равномерный вектор со значениями от -0.1 до 0.1 градусов размерности 3\n",
    "    min_radian = np.radians(-0.1)\n",
    "    max_radian = np.radians(0.1)\n",
    "    noise = np.random.uniform(min_radian, max_radian, 3)\n",
    "    \n",
    "    rvecs[camera_ind] = rvecs[camera_ind] + noise \n",
    "    \n",
    "    # Создать случайный равномерный вектор со значениями от -0.1 до 0.1 размерности 3\n",
    "    noise = np.random.uniform(-0.1, 0.1, 3)\n",
    "    tvecs[camera_ind] = tvecs[camera_ind] + noise \n",
    "    \n",
    "points_3d = []\n",
    "\n",
    "f_losses = []\n",
    "s_losses = []\n",
    "iterations = []\n",
    "\n",
    "for i in range(iterate_count):\n",
    "    points_3d = get_3d_points(rvecs, tvecs, points_2d, get_random_indexes(21, 20))\n",
    "#     print(f\"{len(points_2d)},    {len(points_3d)}\")\n",
    "    f_loss = all_loss(rvecs, tvecs, points_2d, points_3d)\n",
    "    rvecs, tvecs = optimize_Rt(rvecs, tvecs, points_2d, points_3d)\n",
    "    s_loss = all_loss(rvecs, tvecs, points_2d, points_3d)\n",
    "    \n",
    "    f_losses.append(f_loss)\n",
    "    s_losses.append(s_loss)\n",
    "    iterations.append(i)\n",
    "    \n",
    "    print(f\"Iter count - {i}, points finding loss - {f_loss}, Rt finding loss - {s_loss}\")"
   ]
  },
  {
   "cell_type": "code",
   "execution_count": 135,
   "id": "ab114a50",
   "metadata": {},
   "outputs": [
    {
     "data": {
      "image/png": "[encoded data removed]",
      "text/plain": [
       "<Figure size 432x288 with 1 Axes>"
      ]
     },
     "metadata": {
      "needs_background": "light"
     },
     "output_type": "display_data"
    }
   ],
   "source": [
    "plt.plot(iterations, f_losses, label=\"points loss\")\n",
    "plt.plot(iterations, s_losses, label=\"Rt loss\")\n",
    "plt.xlabel(\"Номер итерации\")\n",
    "plt.ylabel(\"Losses\")\n",
    "plt.legend()\n",
    "plt.show()"
   ]
  },
  {
   "cell_type": "markdown",
   "id": "03f8b991",
   "metadata": {},
   "source": [
    "### Оптимизация с помощью метода Ньютона"
   ]
  },
  {
   "cell_type": "code",
   "execution_count": 222,
   "id": "0b9477cd",
   "metadata": {},
   "outputs": [],
   "source": [
    "def optimize_Rt_newton(rvecs, tvecs, points_2d, points_3d):\n",
    "    new_rvec, new_tvec = [], []\n",
    "    for i in range(len(data)):\n",
    "        rvec = rvecs[i]\n",
    "        tvec = tvecs[i]\n",
    "        Rtvec = np.concatenate((rvec,tvec))\n",
    "        newRt = optimize.newton(loss, x0=Rtvec, args=(points_3d, points_2d[i], M),disp=0)\n",
    "        new_rvec.append(newRt[:3])\n",
    "        new_tvec.append(newRt[3:])\n",
    "    return new_rvec, new_tvec"
   ]
  },
  {
   "cell_type": "code",
   "execution_count": 223,
   "id": "dfe9914c",
   "metadata": {},
   "outputs": [
    {
     "name": "stdout",
     "output_type": "stream",
     "text": [
      "Iter count - 0, points finding loss - 658.5849101406731, Rt finding loss - 522.5018829279381\n",
      "Iter count - 1, points finding loss - 529.6844398579024, Rt finding loss - 469.0200146474282\n",
      "Iter count - 2, points finding loss - 343.92234615347735, Rt finding loss - 298.23054727402166\n",
      "Iter count - 3, points finding loss - 389.972495697318, Rt finding loss - 378.719348848513\n",
      "Iter count - 4, points finding loss - 408.50584291168707, Rt finding loss - 391.05207657246393\n",
      "Iter count - 5, points finding loss - 246.10301459242444, Rt finding loss - 207.3201664891085\n",
      "Iter count - 6, points finding loss - 346.81696203038587, Rt finding loss - 333.9490234235498\n",
      "Iter count - 7, points finding loss - 320.7551791517899, Rt finding loss - 282.6111015327247\n",
      "Iter count - 8, points finding loss - 353.4091901798192, Rt finding loss - 306.23760420324015\n",
      "Iter count - 9, points finding loss - 461.76149009476893, Rt finding loss - 406.76467334480856\n",
      "Iter count - 10, points finding loss - 430.79972583506344, Rt finding loss - 393.1910470491831\n",
      "Iter count - 11, points finding loss - 362.1749785919209, Rt finding loss - 342.0682052198105\n",
      "Iter count - 12, points finding loss - 595.9664614358446, Rt finding loss - 582.6831887429737\n",
      "Iter count - 13, points finding loss - 418.98512723908874, Rt finding loss - 398.6358547793529\n",
      "Iter count - 14, points finding loss - 364.9247870909964, Rt finding loss - 347.3364067319931\n",
      "Iter count - 15, points finding loss - 387.51508151610136, Rt finding loss - 358.90089662894025\n",
      "Iter count - 16, points finding loss - 487.98229816431086, Rt finding loss - 471.5694445983317\n",
      "Iter count - 17, points finding loss - 338.2255905768144, Rt finding loss - 315.8511194353498\n",
      "Iter count - 18, points finding loss - 287.00859531152696, Rt finding loss - 236.81516507135615\n",
      "Iter count - 19, points finding loss - 334.9626704045323, Rt finding loss - 310.8193303811531\n",
      "Iter count - 20, points finding loss - 615.4128155330422, Rt finding loss - 571.7811487099265\n",
      "Iter count - 21, points finding loss - 446.81048347824037, Rt finding loss - 422.297313500646\n",
      "Iter count - 22, points finding loss - 509.2133771136104, Rt finding loss - 494.220576505481\n",
      "Iter count - 23, points finding loss - 505.0102231931004, Rt finding loss - 455.8469506365536\n",
      "Iter count - 24, points finding loss - 503.24212053573626, Rt finding loss - 461.65587554227665\n"
     ]
    }
   ],
   "source": [
    "iterate_count = 25\n",
    "# Init points\n",
    "rvecs, tvecs = get_rtvec(data)\n",
    "points_2d = get_2d_points(data)\n",
    "points_3d = []\n",
    "\n",
    "f_losses = []\n",
    "s_losses = []\n",
    "iterations = []\n",
    "\n",
    "for i in range(iterate_count):\n",
    "    points_3d = get_3d_points(rvecs, tvecs, points_2d, get_random_indexes(21, 20))\n",
    "#     print(f\"{len(points_2d)},    {len(points_3d)}\")\n",
    "    f_loss = all_loss(rvecs, tvecs, points_2d, points_3d)\n",
    "    rvecs, tvecs = optimize_Rt(rvecs, tvecs, points_2d, points_3d)\n",
    "    s_loss = all_loss(rvecs, tvecs, points_2d, points_3d)\n",
    "    \n",
    "    f_losses.append(f_loss)\n",
    "    s_losses.append(s_loss)\n",
    "    iterations.append(i)\n",
    "    \n",
    "    print(f\"Iter count - {i}, points finding loss - {f_loss}, Rt finding loss - {s_loss}\")"
   ]
  },
  {
   "cell_type": "markdown",
   "id": "107a34ba",
   "metadata": {},
   "source": [
    "### least_squares "
   ]
  },
  {
   "cell_type": "code",
   "execution_count": 227,
   "id": "1197fcb0",
   "metadata": {},
   "outputs": [],
   "source": [
    "def optimize_Rt_ls(rvecs, tvecs, points_2d, points_3d):\n",
    "    new_rvec, new_tvec = [], []\n",
    "    for i in range(len(data)):\n",
    "        rvec = rvecs[i]\n",
    "        tvec = tvecs[i]\n",
    "        Rtvec = np.concatenate((rvec,tvec))\n",
    "        optimizeResult = optimize.least_squares(loss, x0=Rtvec, args=(points_3d, points_2d[i], M), method='lm')\n",
    "        newRT = optimizeResult.x\n",
    "#         print(optimizeResult.x)\n",
    "        new_rvec.append(newRT[:3])\n",
    "        new_tvec.append(newRT[3:])\n",
    "    return new_rvec, new_tvec"
   ]
  },
  {
   "cell_type": "code",
   "execution_count": 225,
   "id": "a90726ef",
   "metadata": {},
   "outputs": [
    {
     "name": "stdout",
     "output_type": "stream",
     "text": [
      "Iter count - 0, points finding loss - 629.3541520834052, Rt finding loss - 461.71324959407\n",
      "Iter count - 1, points finding loss - 449.07731424272697, Rt finding loss - 427.9178401003265\n",
      "Iter count - 2, points finding loss - 378.6341535079421, Rt finding loss - 335.2870833204377\n",
      "Iter count - 3, points finding loss - 402.78129813624804, Rt finding loss - 381.2404132100283\n",
      "Iter count - 4, points finding loss - 460.54816620754127, Rt finding loss - 435.65569625167234\n",
      "Iter count - 5, points finding loss - 451.6738815387874, Rt finding loss - 429.7103311814403\n",
      "Iter count - 6, points finding loss - 557.7478920630322, Rt finding loss - 530.0857523287424\n",
      "Iter count - 7, points finding loss - 356.0928182176995, Rt finding loss - 337.9879106494513\n",
      "Iter count - 8, points finding loss - 380.19625815153114, Rt finding loss - 354.3250214481777\n",
      "Iter count - 9, points finding loss - 477.41553582247656, Rt finding loss - 457.96096897049625\n",
      "Iter count - 10, points finding loss - 652.6232527718303, Rt finding loss - 608.197071926549\n",
      "Iter count - 11, points finding loss - 870.7156984839673, Rt finding loss - 821.9013373165081\n",
      "Iter count - 12, points finding loss - 523.2080661561672, Rt finding loss - 488.22488361995124\n",
      "Iter count - 13, points finding loss - 571.8874798095961, Rt finding loss - 538.8598906663019\n",
      "Iter count - 14, points finding loss - 678.4001815162837, Rt finding loss - 613.2853439583569\n",
      "Iter count - 15, points finding loss - 605.7279937458266, Rt finding loss - 560.0432663872924\n",
      "Iter count - 16, points finding loss - 606.9143505428102, Rt finding loss - 475.90890092945557\n",
      "Iter count - 17, points finding loss - 506.9805983459684, Rt finding loss - 468.12564624494826\n",
      "Iter count - 18, points finding loss - 466.65579680869996, Rt finding loss - 418.05556380513104\n",
      "Iter count - 19, points finding loss - 416.6598258952005, Rt finding loss - 366.77393355317923\n",
      "Iter count - 20, points finding loss - 615.9187814185059, Rt finding loss - 592.220123751342\n",
      "Iter count - 21, points finding loss - 1044.300744005847, Rt finding loss - 1019.0195046598667\n",
      "Iter count - 22, points finding loss - 432.0266712085433, Rt finding loss - 397.25773422739877\n",
      "Iter count - 23, points finding loss - 502.7600919301192, Rt finding loss - 483.92649935336885\n",
      "Iter count - 24, points finding loss - 466.73354398715844, Rt finding loss - 429.63360080689233\n"
     ]
    }
   ],
   "source": [
    "iterate_count = 25\n",
    "# Init points\n",
    "rvecs, tvecs = get_rtvec(data)\n",
    "points_2d = get_2d_points(data)\n",
    "points_3d = []\n",
    "\n",
    "f_losses = []\n",
    "s_losses = []\n",
    "iterations = []\n",
    "\n",
    "for i in range(iterate_count):\n",
    "    points_3d = get_3d_points(rvecs, tvecs, points_2d, get_random_indexes(21, 20))\n",
    "#     print(f\"{len(points_2d)},    {len(points_3d)}\")\n",
    "    f_loss = all_loss(rvecs, tvecs, points_2d, points_3d)\n",
    "    rvecs, tvecs = optimize_Rt_ls(rvecs, tvecs, points_2d, points_3d)\n",
    "    s_loss = all_loss(rvecs, tvecs, points_2d, points_3d)\n",
    "    \n",
    "    f_losses.append(f_loss)\n",
    "    s_losses.append(s_loss)\n",
    "    iterations.append(i)\n",
    "    \n",
    "    print(f\"Iter count - {i}, points finding loss - {f_loss}, Rt finding loss - {s_loss}\")"
   ]
  },
  {
   "cell_type": "code",
   "execution_count": 226,
   "id": "76b9a8bf",
   "metadata": {},
   "outputs": [
    {
     "data": {
      "image/png": "[encoded data removed]",
      "text/plain": [
       "<Figure size 432x288 with 1 Axes>"
      ]
     },
     "metadata": {
      "needs_background": "light"
     },
     "output_type": "display_data"
    }
   ],
   "source": [
    "plt.plot(iterations, f_losses, label=\"points loss\")\n",
    "plt.plot(iterations, s_losses, label=\"Rt loss\")\n",
    "plt.xlabel(\"Номер итерации\")\n",
    "plt.ylabel(\"Losses\")\n",
    "plt.legend()\n",
    "plt.show()"
   ]
  },
  {
   "cell_type": "markdown",
   "id": "6bf51c19",
   "metadata": {},
   "source": [
    "### LM Method"
   ]
  },
  {
   "cell_type": "code",
   "execution_count": 228,
   "id": "d2ec478f",
   "metadata": {},
   "outputs": [
    {
     "ename": "ValueError",
     "evalue": "Method 'lm' doesn't work when the number of residuals is less than the number of variables.",
     "output_type": "error",
     "traceback": [
      "\u001B[0;31m---------------------------------------------------------------------------\u001B[0m",
      "\u001B[0;31mValueError\u001B[0m                                Traceback (most recent call last)",
      "Input \u001B[0;32mIn [228]\u001B[0m, in \u001B[0;36m<cell line: 11>\u001B[0;34m()\u001B[0m\n\u001B[1;32m     13\u001B[0m \u001B[38;5;66;03m#     print(f\"{len(points_2d)},    {len(points_3d)}\")\u001B[39;00m\n\u001B[1;32m     14\u001B[0m     f_loss \u001B[38;5;241m=\u001B[39m all_loss(rvecs, tvecs, points_2d, points_3d)\n\u001B[0;32m---> 15\u001B[0m     rvecs, tvecs \u001B[38;5;241m=\u001B[39m \u001B[43moptimize_Rt_ls\u001B[49m\u001B[43m(\u001B[49m\u001B[43mrvecs\u001B[49m\u001B[43m,\u001B[49m\u001B[43m \u001B[49m\u001B[43mtvecs\u001B[49m\u001B[43m,\u001B[49m\u001B[43m \u001B[49m\u001B[43mpoints_2d\u001B[49m\u001B[43m,\u001B[49m\u001B[43m \u001B[49m\u001B[43mpoints_3d\u001B[49m\u001B[43m)\u001B[49m\n\u001B[1;32m     16\u001B[0m     s_loss \u001B[38;5;241m=\u001B[39m all_loss(rvecs, tvecs, points_2d, points_3d)\n\u001B[1;32m     18\u001B[0m     f_losses\u001B[38;5;241m.\u001B[39mappend(f_loss)\n",
      "Input \u001B[0;32mIn [227]\u001B[0m, in \u001B[0;36moptimize_Rt_ls\u001B[0;34m(rvecs, tvecs, points_2d, points_3d)\u001B[0m\n\u001B[1;32m      5\u001B[0m         tvec \u001B[38;5;241m=\u001B[39m tvecs[i]\n\u001B[1;32m      6\u001B[0m         Rtvec \u001B[38;5;241m=\u001B[39m np\u001B[38;5;241m.\u001B[39mconcatenate((rvec,tvec))\n\u001B[0;32m----> 7\u001B[0m         optimizeResult \u001B[38;5;241m=\u001B[39m \u001B[43moptimize\u001B[49m\u001B[38;5;241;43m.\u001B[39;49m\u001B[43mleast_squares\u001B[49m\u001B[43m(\u001B[49m\u001B[43mloss\u001B[49m\u001B[43m,\u001B[49m\u001B[43m \u001B[49m\u001B[43mx0\u001B[49m\u001B[38;5;241;43m=\u001B[39;49m\u001B[43mRtvec\u001B[49m\u001B[43m,\u001B[49m\u001B[43m \u001B[49m\u001B[43margs\u001B[49m\u001B[38;5;241;43m=\u001B[39;49m\u001B[43m(\u001B[49m\u001B[43mpoints_3d\u001B[49m\u001B[43m,\u001B[49m\u001B[43m \u001B[49m\u001B[43mpoints_2d\u001B[49m\u001B[43m[\u001B[49m\u001B[43mi\u001B[49m\u001B[43m]\u001B[49m\u001B[43m,\u001B[49m\u001B[43m \u001B[49m\u001B[43mM\u001B[49m\u001B[43m)\u001B[49m\u001B[43m,\u001B[49m\u001B[43m \u001B[49m\u001B[43mmethod\u001B[49m\u001B[38;5;241;43m=\u001B[39;49m\u001B[38;5;124;43m'\u001B[39;49m\u001B[38;5;124;43mlm\u001B[39;49m\u001B[38;5;124;43m'\u001B[39;49m\u001B[43m)\u001B[49m\n\u001B[1;32m      8\u001B[0m         newRT \u001B[38;5;241m=\u001B[39m optimizeResult\u001B[38;5;241m.\u001B[39mx\n\u001B[1;32m      9\u001B[0m \u001B[38;5;66;03m#         print(optimizeResult.x)\u001B[39;00m\n",
      "File \u001B[0;32m~/.local/lib/python3.8/site-packages/scipy/optimize/_lsq/least_squares.py:833\u001B[0m, in \u001B[0;36mleast_squares\u001B[0;34m(fun, x0, jac, bounds, method, ftol, xtol, gtol, x_scale, loss, f_scale, diff_step, tr_solver, tr_options, jac_sparsity, max_nfev, verbose, args, kwargs)\u001B[0m\n\u001B[1;32m    830\u001B[0m m \u001B[38;5;241m=\u001B[39m f0\u001B[38;5;241m.\u001B[39msize\n\u001B[1;32m    832\u001B[0m \u001B[38;5;28;01mif\u001B[39;00m method \u001B[38;5;241m==\u001B[39m \u001B[38;5;124m'\u001B[39m\u001B[38;5;124mlm\u001B[39m\u001B[38;5;124m'\u001B[39m \u001B[38;5;129;01mand\u001B[39;00m m \u001B[38;5;241m<\u001B[39m n:\n\u001B[0;32m--> 833\u001B[0m     \u001B[38;5;28;01mraise\u001B[39;00m \u001B[38;5;167;01mValueError\u001B[39;00m(\u001B[38;5;124m\"\u001B[39m\u001B[38;5;124mMethod \u001B[39m\u001B[38;5;124m'\u001B[39m\u001B[38;5;124mlm\u001B[39m\u001B[38;5;124m'\u001B[39m\u001B[38;5;124m doesn\u001B[39m\u001B[38;5;124m'\u001B[39m\u001B[38;5;124mt work when the number of \u001B[39m\u001B[38;5;124m\"\u001B[39m\n\u001B[1;32m    834\u001B[0m                      \u001B[38;5;124m\"\u001B[39m\u001B[38;5;124mresiduals is less than the number of variables.\u001B[39m\u001B[38;5;124m\"\u001B[39m)\n\u001B[1;32m    836\u001B[0m loss_function \u001B[38;5;241m=\u001B[39m construct_loss_function(m, loss, f_scale)\n\u001B[1;32m    837\u001B[0m \u001B[38;5;28;01mif\u001B[39;00m callable(loss):\n",
      "\u001B[0;31mValueError\u001B[0m: Method 'lm' doesn't work when the number of residuals is less than the number of variables."
     ]
    }
   ],
   "source": [
    "iterate_count = 25\n",
    "# Init points\n",
    "rvecs, tvecs = get_rtvec(data)\n",
    "points_2d = get_2d_points(data)\n",
    "points_3d = []\n",
    "\n",
    "f_losses = []\n",
    "s_losses = []\n",
    "iterations = []\n",
    "\n",
    "for i in range(iterate_count):\n",
    "    points_3d = get_3d_points(rvecs, tvecs, points_2d, get_random_indexes(21, 20))\n",
    "#     print(f\"{len(points_2d)},    {len(points_3d)}\")\n",
    "    f_loss = all_loss(rvecs, tvecs, points_2d, points_3d)\n",
    "    rvecs, tvecs = optimize_Rt_ls(rvecs, tvecs, points_2d, points_3d)\n",
    "    s_loss = all_loss(rvecs, tvecs, points_2d, points_3d)\n",
    "    \n",
    "    f_losses.append(f_loss)\n",
    "    s_losses.append(s_loss)\n",
    "    iterations.append(i)\n",
    "    \n",
    "    print(f\"Iter count - {i}, points finding loss - {f_loss}, Rt finding loss - {s_loss}\")"
   ]
  },
  {
   "cell_type": "code",
   "execution_count": null,
   "id": "01143060",
   "metadata": {},
   "outputs": [],
   "source": [
    "plt.plot(iterations, f_losses, label=\"points loss\")\n",
    "plt.plot(iterations, s_losses, label=\"Rt loss\")\n",
    "plt.xlabel(\"Номер итерации\")\n",
    "plt.ylabel(\"Losses\")\n",
    "plt.legend()\n",
    "plt.show()"
   ]
  }
 ],
 "metadata": {
  "kernelspec": {
   "display_name": "Python 3 (ipykernel)",
   "language": "python",
   "name": "python3"
  },
  "language_info": {
   "codemirror_mode": {
    "name": "ipython",
    "version": 3
   },
   "file_extension": ".py",
   "mimetype": "text/x-python",
   "name": "python",
   "nbconvert_exporter": "python",
   "pygments_lexer": "ipython3",
   "version": "3.8.10"
  }
 },
 "nbformat": 4,
 "nbformat_minor": 5
}